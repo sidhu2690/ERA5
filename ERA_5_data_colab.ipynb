{
  "nbformat": 4,
  "nbformat_minor": 0,
  "metadata": {
    "colab": {
      "provenance": [],
      "authorship_tag": "ABX9TyN2bi8/y3H9mj0m1WiWCjvI",
      "include_colab_link": true
    },
    "kernelspec": {
      "name": "python3",
      "display_name": "Python 3"
    },
    "language_info": {
      "name": "python"
    }
  },
  "cells": [
    {
      "cell_type": "markdown",
      "metadata": {
        "id": "view-in-github",
        "colab_type": "text"
      },
      "source": [
        "<a href=\"https://colab.research.google.com/github/sidhu2690/Heavy_rainfall_prediction/blob/main/ERA_5_data_colab.ipynb\" target=\"_parent\"><img src=\"https://colab.research.google.com/assets/colab-badge.svg\" alt=\"Open In Colab\"/></a>"
      ]
    },
    {
      "cell_type": "code",
      "execution_count": 1,
      "metadata": {
        "colab": {
          "base_uri": "https://localhost:8080/"
        },
        "id": "4V2NloENuamv",
        "outputId": "b917c3a6-a872-42bb-ac76-037b043eb731"
      },
      "outputs": [
        {
          "output_type": "stream",
          "name": "stdout",
          "text": [
            "Collecting cdsapi\n",
            "  Downloading cdsapi-0.7.0-py2.py3-none-any.whl.metadata (2.7 kB)\n",
            "Collecting cads-api-client>=0.9.2 (from cdsapi)\n",
            "  Downloading cads_api_client-1.2.0-py3-none-any.whl.metadata (16 kB)\n",
            "Requirement already satisfied: requests>=2.5.0 in /usr/local/lib/python3.10/dist-packages (from cdsapi) (2.31.0)\n",
            "Requirement already satisfied: tqdm in /usr/local/lib/python3.10/dist-packages (from cdsapi) (4.66.4)\n",
            "Requirement already satisfied: attrs in /usr/local/lib/python3.10/dist-packages (from cads-api-client>=0.9.2->cdsapi) (23.2.0)\n",
            "Collecting multiurl (from cads-api-client>=0.9.2->cdsapi)\n",
            "  Downloading multiurl-0.3.1.tar.gz (18 kB)\n",
            "  Preparing metadata (setup.py) ... \u001b[?25l\u001b[?25hdone\n",
            "Requirement already satisfied: typing-extensions in /usr/local/lib/python3.10/dist-packages (from cads-api-client>=0.9.2->cdsapi) (4.12.2)\n",
            "Requirement already satisfied: charset-normalizer<4,>=2 in /usr/local/lib/python3.10/dist-packages (from requests>=2.5.0->cdsapi) (3.3.2)\n",
            "Requirement already satisfied: idna<4,>=2.5 in /usr/local/lib/python3.10/dist-packages (from requests>=2.5.0->cdsapi) (3.7)\n",
            "Requirement already satisfied: urllib3<3,>=1.21.1 in /usr/local/lib/python3.10/dist-packages (from requests>=2.5.0->cdsapi) (2.0.7)\n",
            "Requirement already satisfied: certifi>=2017.4.17 in /usr/local/lib/python3.10/dist-packages (from requests>=2.5.0->cdsapi) (2024.7.4)\n",
            "Requirement already satisfied: pytz in /usr/local/lib/python3.10/dist-packages (from multiurl->cads-api-client>=0.9.2->cdsapi) (2024.1)\n",
            "Requirement already satisfied: python-dateutil in /usr/local/lib/python3.10/dist-packages (from multiurl->cads-api-client>=0.9.2->cdsapi) (2.8.2)\n",
            "Requirement already satisfied: six>=1.5 in /usr/local/lib/python3.10/dist-packages (from python-dateutil->multiurl->cads-api-client>=0.9.2->cdsapi) (1.16.0)\n",
            "Downloading cdsapi-0.7.0-py2.py3-none-any.whl (12 kB)\n",
            "Downloading cads_api_client-1.2.0-py3-none-any.whl (20 kB)\n",
            "Building wheels for collected packages: multiurl\n",
            "  Building wheel for multiurl (setup.py) ... \u001b[?25l\u001b[?25hdone\n",
            "  Created wheel for multiurl: filename=multiurl-0.3.1-py3-none-any.whl size=21131 sha256=e2a40e0ab483e2f5aeb20120c3459e5c36f16a3d25103aa18d32497a75edb22e\n",
            "  Stored in directory: /root/.cache/pip/wheels/9b/d9/5f/36a39fd10d15b5b2d362ad6dc8a1bd28a3b1e14e08357944bf\n",
            "Successfully built multiurl\n",
            "Installing collected packages: multiurl, cads-api-client, cdsapi\n",
            "Successfully installed cads-api-client-1.2.0 cdsapi-0.7.0 multiurl-0.3.1\n"
          ]
        }
      ],
      "source": [
        "pip install cdsapi"
      ]
    },
    {
      "cell_type": "code",
      "source": [
        "cdsapirc_content = \"\"\"\n",
        "url: https://cds.climate.copernicus.eu/api/v2\n",
        "key: 309401:e69fa1e0-e15f-42c5-9199-e2b8416c64a4\n",
        "\"\"\"\n",
        "\n",
        "file_path = '/root/.cdsapirc'\n",
        "\n",
        "with open(file_path, 'w') as file:\n",
        "    file.write(cdsapirc_content)\n",
        "\n",
        "print(f\"File created at: {file_path}\")"
      ],
      "metadata": {
        "colab": {
          "base_uri": "https://localhost:8080/"
        },
        "id": "jdBpwagNBXhf",
        "outputId": "70a697b5-e54a-4793-d437-5facb53eeafa"
      },
      "execution_count": 5,
      "outputs": [
        {
          "output_type": "stream",
          "name": "stdout",
          "text": [
            "File created at: /root/.cdsapirc\n"
          ]
        }
      ]
    },
    {
      "cell_type": "code",
      "source": [
        "import cdsapi\n",
        "\n",
        "def download_data(period):\n",
        "    c = cdsapi.Client()\n",
        "\n",
        "    year = period.split('_')[0]\n",
        "    month_period = period.split('_')[1]\n",
        "\n",
        "    base_params = {\n",
        "        'product_type': 'reanalysis',\n",
        "        'variable': [\n",
        "            '2m_temperature', 'cloud_base_height', 'high_cloud_cover',\n",
        "            'low_cloud_cover', 'mean_sea_level_pressure', 'medium_cloud_cover',\n",
        "            'surface_latent_heat_flux', 'surface_pressure', 'surface_sensible_heat_flux',\n",
        "            'total_cloud_cover', 'total_column_cloud_ice_water', 'total_column_cloud_liquid_water',\n",
        "            'total_precipitation',\n",
        "        ],\n",
        "        'year': year,\n",
        "        'day': [\n",
        "            '01', '02', '03',\n",
        "            '04', '05', '06',\n",
        "            '07', '08', '09',\n",
        "            '10', '11', '12',\n",
        "            '13', '14', '15',\n",
        "            '16', '17', '18',\n",
        "            '19', '20', '21',\n",
        "            '22', '23', '24',\n",
        "            '25', '26', '27',\n",
        "            '28', '29', '30',\n",
        "            '31',\n",
        "        ],\n",
        "        'time': [\n",
        "            '00:00', '01:00', '02:00',\n",
        "            '03:00', '04:00', '05:00',\n",
        "            '06:00', '07:00', '08:00',\n",
        "            '09:00', '10:00', '11:00',\n",
        "            '12:00', '13:00', '14:00',\n",
        "            '15:00', '16:00', '17:00',\n",
        "            '18:00', '19:00', '20:00',\n",
        "            '21:00', '22:00', '23:00',\n",
        "        ],\n",
        "        'area': [\n",
        "            31.4, 77.2, 28.8,\n",
        "            81.2,\n",
        "        ],\n",
        "        'format': 'netcdf',\n",
        "    }\n",
        "\n",
        "    if month_period == '01':\n",
        "        months = ['01', '02', '03', '04', '05', '06']\n",
        "    elif month_period == '02':\n",
        "        months = ['07', '08', '09', '10', '11', '12']\n",
        "    else:\n",
        "        raise ValueError(\"Invalid period. Use '01' for the first six months and '02' for the second six months.\")\n",
        "\n",
        "    params = {**base_params, 'month': months}\n",
        "\n",
        "    c.retrieve(\n",
        "        'reanalysis-era5-single-levels',\n",
        "        params,\n",
        "        f'{year}_{month_period}.nc')"
      ],
      "metadata": {
        "id": "jY0zxt22usir"
      },
      "execution_count": 18,
      "outputs": []
    },
    {
      "cell_type": "code",
      "source": [
        "download_data('1991_01')"
      ],
      "metadata": {
        "id": "jgPRypyhCia_"
      },
      "execution_count": null,
      "outputs": []
    },
    {
      "cell_type": "code",
      "source": [],
      "metadata": {
        "id": "XkufwcVAG57W"
      },
      "execution_count": 48,
      "outputs": []
    }
  ]
}