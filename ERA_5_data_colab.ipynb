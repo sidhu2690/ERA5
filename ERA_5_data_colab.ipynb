{
  "nbformat": 4,
  "nbformat_minor": 0,
  "metadata": {
    "colab": {
      "provenance": [],
      "authorship_tag": "ABX9TyP5r9lG1k3tLQdbc1ZgLhwL",
      "include_colab_link": true
    },
    "kernelspec": {
      "name": "python3",
      "display_name": "Python 3"
    },
    "language_info": {
      "name": "python"
    }
  },
  "cells": [
    {
      "cell_type": "markdown",
      "metadata": {
        "id": "view-in-github",
        "colab_type": "text"
      },
      "source": [
        "<a href=\"https://colab.research.google.com/github/sidhu2690/Heavy_rainfall_prediction/blob/main/ERA_5_data_colab.ipynb\" target=\"_parent\"><img src=\"https://colab.research.google.com/assets/colab-badge.svg\" alt=\"Open In Colab\"/></a>"
      ]
    },
    {
      "cell_type": "code",
      "execution_count": 1,
      "metadata": {
        "colab": {
          "base_uri": "https://localhost:8080/"
        },
        "id": "v7hozz0WW3Ry",
        "outputId": "dbaa7515-7114-4b8a-fb33-ccce119a4c15"
      },
      "outputs": [
        {
          "output_type": "stream",
          "name": "stdout",
          "text": [
            "Collecting cdsapi\n",
            "  Downloading cdsapi-0.7.5-py2.py3-none-any.whl.metadata (2.9 kB)\n",
            "Collecting datapi (from cdsapi)\n",
            "  Downloading datapi-0.1.1-py3-none-any.whl.metadata (17 kB)\n",
            "Requirement already satisfied: requests>=2.5.0 in /usr/local/lib/python3.10/dist-packages (from cdsapi) (2.32.3)\n",
            "Requirement already satisfied: tqdm in /usr/local/lib/python3.10/dist-packages (from cdsapi) (4.67.1)\n",
            "Requirement already satisfied: charset-normalizer<4,>=2 in /usr/local/lib/python3.10/dist-packages (from requests>=2.5.0->cdsapi) (3.4.0)\n",
            "Requirement already satisfied: idna<4,>=2.5 in /usr/local/lib/python3.10/dist-packages (from requests>=2.5.0->cdsapi) (3.10)\n",
            "Requirement already satisfied: urllib3<3,>=1.21.1 in /usr/local/lib/python3.10/dist-packages (from requests>=2.5.0->cdsapi) (2.2.3)\n",
            "Requirement already satisfied: certifi>=2017.4.17 in /usr/local/lib/python3.10/dist-packages (from requests>=2.5.0->cdsapi) (2024.12.14)\n",
            "Requirement already satisfied: attrs in /usr/local/lib/python3.10/dist-packages (from datapi->cdsapi) (24.3.0)\n",
            "Collecting multiurl>=0.3.2 (from datapi->cdsapi)\n",
            "  Downloading multiurl-0.3.3.tar.gz (18 kB)\n",
            "  Preparing metadata (setup.py) ... \u001b[?25l\u001b[?25hdone\n",
            "Requirement already satisfied: typing-extensions in /usr/local/lib/python3.10/dist-packages (from datapi->cdsapi) (4.12.2)\n",
            "Requirement already satisfied: pytz in /usr/local/lib/python3.10/dist-packages (from multiurl>=0.3.2->datapi->cdsapi) (2024.2)\n",
            "Requirement already satisfied: python-dateutil in /usr/local/lib/python3.10/dist-packages (from multiurl>=0.3.2->datapi->cdsapi) (2.8.2)\n",
            "Requirement already satisfied: six>=1.5 in /usr/local/lib/python3.10/dist-packages (from python-dateutil->multiurl>=0.3.2->datapi->cdsapi) (1.17.0)\n",
            "Downloading cdsapi-0.7.5-py2.py3-none-any.whl (12 kB)\n",
            "Downloading datapi-0.1.1-py3-none-any.whl (26 kB)\n",
            "Building wheels for collected packages: multiurl\n",
            "  Building wheel for multiurl (setup.py) ... \u001b[?25l\u001b[?25hdone\n",
            "  Created wheel for multiurl: filename=multiurl-0.3.3-py3-none-any.whl size=21230 sha256=537665111a74683a45ff489b03fa77220759e40c60c894e5855a5b7f52f351ec\n",
            "  Stored in directory: /root/.cache/pip/wheels/be/05/e0/65a6edb0a000498aeaefbadd80228bf5ed1bdbb82840ca1692\n",
            "Successfully built multiurl\n",
            "Installing collected packages: multiurl, datapi, cdsapi\n",
            "Successfully installed cdsapi-0.7.5 datapi-0.1.1 multiurl-0.3.3\n"
          ]
        }
      ],
      "source": [
        "pip install cdsapi"
      ]
    },
    {
      "cell_type": "code",
      "source": [
        "cdsapirc_content = \"\"\"\n",
        "url: https://cds.climate.copernicus.eu/api\n",
        "key: d142ed88-dce2-4595-befb-224a2a1cd3bc\n",
        "\"\"\"\n",
        "\n",
        "file_path = '/root/.cdsapirc'\n",
        "\n",
        "with open(file_path, 'w') as file:\n",
        "    file.write(cdsapirc_content)\n",
        "\n",
        "print(f\"File created at: {file_path}\")"
      ],
      "metadata": {
        "colab": {
          "base_uri": "https://localhost:8080/"
        },
        "id": "Li4hpHzaW47E",
        "outputId": "b42ebbf0-39ee-4daa-aec3-04515cbcc773"
      },
      "execution_count": 9,
      "outputs": [
        {
          "output_type": "stream",
          "name": "stdout",
          "text": [
            "File created at: /root/.cdsapirc\n"
          ]
        }
      ]
    },
    {
      "cell_type": "code",
      "source": [
        "import cdsapi\n",
        "\n",
        "dataset = \"reanalysis-era5-single-levels\"\n",
        "request = {\n",
        "    \"product_type\": [\"reanalysis\"],\n",
        "    \"variable\": [\"total_precipitation\"],\n",
        "    \"year\": [\n",
        "        \"1975\", \"1976\", \"1977\",\n",
        "        \"1978\", \"1979\", \"1980\",\n",
        "        \"1981\", \"1982\", \"1983\",\n",
        "        \"1984\", \"1985\", \"1986\",\n",
        "        \"1987\", \"1988\", \"1989\",\n",
        "        \"1990\", \"1991\", \"1992\",\n",
        "        \"1993\", \"1994\", \"1995\",\n",
        "        \"1996\", \"1997\", \"1998\",\n",
        "        \"1999\", \"2000\", \"2001\",\n",
        "        \"2002\", \"2003\", \"2004\",\n",
        "        \"2005\", \"2006\", \"2007\",\n",
        "        \"2008\", \"2009\", \"2010\",\n",
        "        \"2011\", \"2012\", \"2013\",\n",
        "        \"2014\"\n",
        "    ],\n",
        "    \"month\": [\n",
        "        \"06\", \"07\", \"08\",\n",
        "        \"09\"\n",
        "    ],\n",
        "    \"day\": [\n",
        "        \"01\", \"02\", \"03\",\n",
        "        \"04\", \"05\", \"06\",\n",
        "        \"07\", \"08\", \"09\",\n",
        "        \"10\", \"11\", \"12\",\n",
        "        \"13\", \"14\", \"15\",\n",
        "        \"16\", \"17\", \"18\",\n",
        "        \"19\", \"20\", \"21\",\n",
        "        \"22\", \"23\", \"24\",\n",
        "        \"25\", \"26\", \"27\",\n",
        "        \"28\", \"29\", \"30\",\n",
        "        \"31\"\n",
        "    ],\n",
        "    \"time\": [\n",
        "        \"00:00\", \"01:00\", \"02:00\",\n",
        "        \"03:00\", \"04:00\", \"05:00\",\n",
        "        \"06:00\", \"07:00\", \"08:00\",\n",
        "        \"09:00\", \"10:00\", \"11:00\",\n",
        "        \"12:00\", \"13:00\", \"14:00\",\n",
        "        \"15:00\", \"16:00\", \"17:00\",\n",
        "        \"18:00\", \"19:00\", \"20:00\",\n",
        "        \"21:00\", \"22:00\", \"23:00\"\n",
        "    ],\n",
        "    \"data_format\": \"netcdf\",\n",
        "    \"download_format\": \"unarchived\",\n",
        "    \"area\": [31.45, 77.57, 28.72, 81.03]\n",
        "}\n",
        "\n",
        "client = cdsapi.Client()\n",
        "client.retrieve(dataset, request).download()"
      ],
      "metadata": {
        "id": "kFIi0eOkXKhf"
      },
      "execution_count": null,
      "outputs": []
    }
  ]
}